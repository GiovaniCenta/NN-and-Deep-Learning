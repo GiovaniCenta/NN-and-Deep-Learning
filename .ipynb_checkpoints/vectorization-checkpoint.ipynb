{
 "cells": [
  {
   "cell_type": "code",
   "execution_count": null,
   "id": "1f3248a6",
   "metadata": {},
   "outputs": [],
   "source": [
    "#Vectorization is basically the art of getting \n",
    "# rid of explicit for loops in your code."
   ]
  },
  {
   "cell_type": "code",
   "execution_count": 4,
   "id": "5a87f4cc",
   "metadata": {},
   "outputs": [],
   "source": [
    "import numpy as np\n",
    "import time\n",
    "a = np.random.rand(1000000)\n",
    "b = np.random.rand(1000000)"
   ]
  },
  {
   "cell_type": "code",
   "execution_count": 6,
   "id": "7e718826",
   "metadata": {},
   "outputs": [
    {
     "name": "stdout",
     "output_type": "stream",
     "text": [
      "Vectorized version:3.000974655151367ms\n"
     ]
    }
   ],
   "source": [
    "tic = time.time()\n",
    "c = np.dot(a,b)\n",
    "toc = time.time()\n",
    "print(\"Vectorized version:\" + str(1000*(toc-tic)) + \"ms\")"
   ]
  },
  {
   "cell_type": "code",
   "execution_count": null,
   "id": "98a5a2b8",
   "metadata": {},
   "outputs": [],
   "source": [
    "#vectorized version took 3ms"
   ]
  },
  {
   "cell_type": "code",
   "execution_count": 7,
   "id": "a2285c2b",
   "metadata": {},
   "outputs": [
    {
     "name": "stdout",
     "output_type": "stream",
     "text": [
      "non Vectorized version(for loop) : 649.5246887207031ms\n"
     ]
    }
   ],
   "source": [
    "c = 0\n",
    "tic = time.time()\n",
    "for i in range(1000000):\n",
    "    c += a[i]*b[i]\n",
    "toc = time.time()\n",
    "print(\"non Vectorized version(for loop) : \" + str(1000*(toc-tic)) + \"ms\")"
   ]
  },
  {
   "cell_type": "code",
   "execution_count": null,
   "id": "8acb735d",
   "metadata": {},
   "outputs": [],
   "source": [
    "#non vectorized version took 649ms\n",
    "#in big datasets this time difference is important"
   ]
  }
 ],
 "metadata": {
  "kernelspec": {
   "display_name": "Python 3 (ipykernel)",
   "language": "python",
   "name": "python3"
  },
  "language_info": {
   "codemirror_mode": {
    "name": "ipython",
    "version": 3
   },
   "file_extension": ".py",
   "mimetype": "text/x-python",
   "name": "python",
   "nbconvert_exporter": "python",
   "pygments_lexer": "ipython3",
   "version": "3.9.7"
  }
 },
 "nbformat": 4,
 "nbformat_minor": 5
}
